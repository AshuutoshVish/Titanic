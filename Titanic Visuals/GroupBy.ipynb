{
 "cells": [
  {
   "cell_type": "code",
   "execution_count": 1,
   "id": "d3672feb-c30b-4e84-b2fe-ca6f93a6bccf",
   "metadata": {},
   "outputs": [],
   "source": [
    "import pandas as pd \n",
    "example = {'Team':['Arsenal', 'Manchester United', 'Arsenal', \n",
    "\t\t\t\t'Arsenal', 'Chelsea', 'Manchester United', \n",
    "\t\t\t\t'Manchester United', 'Chelsea', 'Chelsea', 'Chelsea'], \n",
    "\t\t\t\t\t\n",
    "\t\t'Player':['Ozil', 'Pogba', 'Lucas', 'Aubameyang', \n",
    "\t\t\t\t\t'Hazard', 'Mata', 'Lukaku', 'Morata', \n",
    "\t\t\t\t\t\t\t\t\t\t'Giroud', 'Kante'], \n",
    "\t\t\t\t\t\t\t\t\t\t\n",
    "\t\t'Goals':[5, 3, 6, 4, 9, 2, 0, 5, 2, 3] }"
   ]
  },
  {
   "cell_type": "code",
   "execution_count": 2,
   "id": "a712d671-f363-4c7b-ba97-83d2ff5c0e8c",
   "metadata": {},
   "outputs": [
    {
     "data": {
      "text/html": [
       "<div>\n",
       "<style scoped>\n",
       "    .dataframe tbody tr th:only-of-type {\n",
       "        vertical-align: middle;\n",
       "    }\n",
       "\n",
       "    .dataframe tbody tr th {\n",
       "        vertical-align: top;\n",
       "    }\n",
       "\n",
       "    .dataframe thead th {\n",
       "        text-align: right;\n",
       "    }\n",
       "</style>\n",
       "<table border=\"1\" class=\"dataframe\">\n",
       "  <thead>\n",
       "    <tr style=\"text-align: right;\">\n",
       "      <th></th>\n",
       "      <th>Team</th>\n",
       "      <th>Player</th>\n",
       "      <th>Goals</th>\n",
       "    </tr>\n",
       "  </thead>\n",
       "  <tbody>\n",
       "    <tr>\n",
       "      <th>0</th>\n",
       "      <td>Arsenal</td>\n",
       "      <td>Ozil</td>\n",
       "      <td>5</td>\n",
       "    </tr>\n",
       "    <tr>\n",
       "      <th>1</th>\n",
       "      <td>Manchester United</td>\n",
       "      <td>Pogba</td>\n",
       "      <td>3</td>\n",
       "    </tr>\n",
       "    <tr>\n",
       "      <th>2</th>\n",
       "      <td>Arsenal</td>\n",
       "      <td>Lucas</td>\n",
       "      <td>6</td>\n",
       "    </tr>\n",
       "    <tr>\n",
       "      <th>3</th>\n",
       "      <td>Arsenal</td>\n",
       "      <td>Aubameyang</td>\n",
       "      <td>4</td>\n",
       "    </tr>\n",
       "    <tr>\n",
       "      <th>4</th>\n",
       "      <td>Chelsea</td>\n",
       "      <td>Hazard</td>\n",
       "      <td>9</td>\n",
       "    </tr>\n",
       "    <tr>\n",
       "      <th>5</th>\n",
       "      <td>Manchester United</td>\n",
       "      <td>Mata</td>\n",
       "      <td>2</td>\n",
       "    </tr>\n",
       "    <tr>\n",
       "      <th>6</th>\n",
       "      <td>Manchester United</td>\n",
       "      <td>Lukaku</td>\n",
       "      <td>0</td>\n",
       "    </tr>\n",
       "    <tr>\n",
       "      <th>7</th>\n",
       "      <td>Chelsea</td>\n",
       "      <td>Morata</td>\n",
       "      <td>5</td>\n",
       "    </tr>\n",
       "    <tr>\n",
       "      <th>8</th>\n",
       "      <td>Chelsea</td>\n",
       "      <td>Giroud</td>\n",
       "      <td>2</td>\n",
       "    </tr>\n",
       "    <tr>\n",
       "      <th>9</th>\n",
       "      <td>Chelsea</td>\n",
       "      <td>Kante</td>\n",
       "      <td>3</td>\n",
       "    </tr>\n",
       "  </tbody>\n",
       "</table>\n",
       "</div>"
      ],
      "text/plain": [
       "                Team      Player  Goals\n",
       "0            Arsenal        Ozil      5\n",
       "1  Manchester United       Pogba      3\n",
       "2            Arsenal       Lucas      6\n",
       "3            Arsenal  Aubameyang      4\n",
       "4            Chelsea      Hazard      9\n",
       "5  Manchester United        Mata      2\n",
       "6  Manchester United      Lukaku      0\n",
       "7            Chelsea      Morata      5\n",
       "8            Chelsea      Giroud      2\n",
       "9            Chelsea       Kante      3"
      ]
     },
     "execution_count": 2,
     "metadata": {},
     "output_type": "execute_result"
    }
   ],
   "source": [
    "df = pd.DataFrame(example) \n",
    "df"
   ]
  },
  {
   "cell_type": "code",
   "execution_count": 6,
   "id": "0ec4c0e0-13a3-4009-ba0e-819df2be7c82",
   "metadata": {},
   "outputs": [
    {
     "name": "stdout",
     "output_type": "stream",
     "text": [
      "Team\n",
      "Arsenal              5.000000\n",
      "Chelsea              4.750000\n",
      "Manchester United    1.666667\n",
      "Name: Goals, dtype: float64\n"
     ]
    }
   ],
   "source": [
    "total_goals = df['Goals'].groupby(df['Team']) \n",
    "print(total_goals.mean())"
   ]
  }
 ],
 "metadata": {
  "kernelspec": {
   "display_name": "Python 3 (ipykernel)",
   "language": "python",
   "name": "python3"
  },
  "language_info": {
   "codemirror_mode": {
    "name": "ipython",
    "version": 3
   },
   "file_extension": ".py",
   "mimetype": "text/x-python",
   "name": "python",
   "nbconvert_exporter": "python",
   "pygments_lexer": "ipython3",
   "version": "3.13.1"
  }
 },
 "nbformat": 4,
 "nbformat_minor": 5
}
