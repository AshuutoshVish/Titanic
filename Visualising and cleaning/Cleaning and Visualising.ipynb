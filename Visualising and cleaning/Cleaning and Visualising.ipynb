{
 "cells": [
  {
   "cell_type": "code",
   "execution_count": null,
   "id": "673810ea-d60e-4bb2-b6ae-b23a446cb08c",
   "metadata": {},
   "outputs": [],
   "source": [
    "import numpy as np\n",
    "import pandas as pd\n",
    "import seaborn as sns\n",
    "import matplotlib.pyplot as plt"
   ]
  },
  {
   "cell_type": "code",
   "execution_count": null,
   "id": "54a3908f-eaab-4dcc-816d-377873cb6f97",
   "metadata": {},
   "outputs": [],
   "source": [
    "df = pd.read_csv(\"titanic.csv\")  \n",
    "df.head()"
   ]
  },
  {
   "cell_type": "code",
   "execution_count": null,
   "id": "38190bdc-c191-45c7-8dc4-4ec9286d93b0",
   "metadata": {},
   "outputs": [],
   "source": [
    "df.info()"
   ]
  },
  {
   "cell_type": "code",
   "execution_count": null,
   "id": "b2c3e4ba-cc4b-4e3f-a3de-b2968e5473e6",
   "metadata": {},
   "outputs": [],
   "source": [
    "df.describe()"
   ]
  },
  {
   "cell_type": "code",
   "execution_count": null,
   "id": "9fad4437-da61-41c1-8e54-0e46d6213094",
   "metadata": {},
   "outputs": [],
   "source": [
    "df.isnull().sum()"
   ]
  },
  {
   "cell_type": "code",
   "execution_count": null,
   "id": "67a5f325-af18-4a2f-a670-89a4294f85da",
   "metadata": {},
   "outputs": [],
   "source": [
    "df['Pclass'].unique()"
   ]
  },
  {
   "cell_type": "code",
   "execution_count": null,
   "id": "987abf0c-1f04-4895-9fc2-b263f4f5f15b",
   "metadata": {},
   "outputs": [],
   "source": [
    " df['Sex'].unique()"
   ]
  },
  {
   "cell_type": "code",
   "execution_count": null,
   "id": "b66f9ff7-3bb2-48c7-b04f-8ef57233539e",
   "metadata": {},
   "outputs": [],
   "source": [
    "df['Sex']=df['Sex'].map({'male':0, 'female':1})\n",
    "df.head()"
   ]
  },
  {
   "cell_type": "code",
   "execution_count": null,
   "id": "9e52f029-50af-47e6-b260-fe5e48f317e7",
   "metadata": {},
   "outputs": [],
   "source": [
    " df['Embarked'].unique()"
   ]
  },
  {
   "cell_type": "code",
   "execution_count": null,
   "id": "b124eac6-8ef9-4e8f-849e-1bb1e66f29fc",
   "metadata": {},
   "outputs": [],
   "source": [
    "df['Embarked'].fillna((df['Embarked'].mode()[0]), inplace=True)"
   ]
  },
  {
   "cell_type": "code",
   "execution_count": null,
   "id": "a59adf45-f644-4b3d-87c0-aa3f2362aeb1",
   "metadata": {},
   "outputs": [],
   "source": [
    "df['Embarked'].value_counts()"
   ]
  },
  {
   "cell_type": "code",
   "execution_count": null,
   "id": "d66b98ed-edf8-4353-a9c3-3d3f0bca72bc",
   "metadata": {},
   "outputs": [],
   "source": [
    "df['Embarked']=df['Embarked'].map({'S':1, 'C':2, 'Q':3})"
   ]
  },
  {
   "cell_type": "code",
   "execution_count": null,
   "id": "84b3f113-5dc2-442a-a2d7-323fa6c54182",
   "metadata": {},
   "outputs": [],
   "source": [
    "df['Embarked'].unique()"
   ]
  },
  {
   "cell_type": "code",
   "execution_count": null,
   "id": "10ce4eb9-1e31-4abb-96ac-5ed5e88ecb4a",
   "metadata": {},
   "outputs": [],
   "source": [
    "sns.barplot(df['Embarked'].value_counts())"
   ]
  },
  {
   "cell_type": "code",
   "execution_count": null,
   "id": "993134a6-c506-4d83-b3ac-ac7d57a2674c",
   "metadata": {},
   "outputs": [],
   "source": [
    "df['Age'].unique()"
   ]
  },
  {
   "cell_type": "code",
   "execution_count": null,
   "id": "e42707a6-ded6-412d-802b-f2976fc3e18b",
   "metadata": {},
   "outputs": [],
   "source": [
    "df[\"Age\"] = df[\"Age\"].fillna(df.groupby([\"Sex\", \"Pclass\"])[\"Age\"].transform(\"median\"))"
   ]
  },
  {
   "cell_type": "code",
   "execution_count": null,
   "id": "cde9d512-3d57-48e4-82ac-da0eb62ef7c7",
   "metadata": {},
   "outputs": [],
   "source": [
    "df.head()"
   ]
  },
  {
   "cell_type": "code",
   "execution_count": null,
   "id": "ac8a3c15-c89b-4ddb-955e-17a4eee68f2e",
   "metadata": {},
   "outputs": [],
   "source": [
    "df[['Pclass', 'Age', 'Survived','Embarked']].corr()"
   ]
  },
  {
   "cell_type": "code",
   "execution_count": null,
   "id": "c1cc11f5-e263-4eab-8dae-3bef55842452",
   "metadata": {},
   "outputs": [],
   "source": [
    "sns.heatmap(df[['Pclass', 'Age', 'Survived','Embarked']].corr(),cbar=True)"
   ]
  },
  {
   "cell_type": "code",
   "execution_count": null,
   "id": "95f18571-4f23-4a80-a858-c30ec8f681d9",
   "metadata": {},
   "outputs": [],
   "source": [
    "totalsurvive=df['Survived'].groupby(df['Pclass'])\n",
    "print(totalsurvive.mean()*100) #percentage pclas survive"
   ]
  },
  {
   "cell_type": "code",
   "execution_count": null,
   "id": "76692258-9e0b-4c8e-b0de-007cf0e61ee9",
   "metadata": {},
   "outputs": [],
   "source": [
    "totalsurvive=df['Survived'].groupby(df['Sex'])\n",
    "print(totalsurvive.mean()*100) #percent based on sex"
   ]
  },
  {
   "cell_type": "code",
   "execution_count": null,
   "id": "3f4581a7-5063-4949-9ead-7a8376df1e4e",
   "metadata": {},
   "outputs": [],
   "source": [
    "df['Age'].plot()"
   ]
  },
  {
   "cell_type": "code",
   "execution_count": null,
   "id": "4f6502da-38f9-4c30-bd31-fe1989023789",
   "metadata": {},
   "outputs": [],
   "source": [
    "df['Age'].plot(alpha=0.4)"
   ]
  },
  {
   "cell_type": "code",
   "execution_count": null,
   "id": "f5e9cc47-7ec5-4119-88a9-7b9de8e2e481",
   "metadata": {},
   "outputs": [],
   "source": [
    "df['Age'].unique()"
   ]
  },
  {
   "cell_type": "code",
   "execution_count": null,
   "id": "b8a9f1c0-c7e1-4746-b306-04fc533a38ac",
   "metadata": {},
   "outputs": [],
   "source": [
    "sns.jointplot(x='Age',y='Survived', data=df, kind='hist')"
   ]
  },
  {
   "cell_type": "code",
   "execution_count": null,
   "id": "f533fe37-a3e1-4518-9150-7cb1cabd23b9",
   "metadata": {},
   "outputs": [],
   "source": [
    "survived_rate=df.groupby(['Pclass','Sex',])['Survived'].mean()*100\n",
    "print(survived_rate)"
   ]
  },
  {
   "cell_type": "code",
   "execution_count": null,
   "id": "bfd22237-2c8d-4b8a-bc6c-f138b36d1814",
   "metadata": {},
   "outputs": [],
   "source": [
    "df.plot(kind='hist', x='Survived', y='Age', bins=10)"
   ]
  },
  {
   "cell_type": "code",
   "execution_count": null,
   "id": "5828f1ba-7231-4146-a651-be243c765c06",
   "metadata": {},
   "outputs": [],
   "source": [
    "sns.histplot( x='Age', hue='Survived', data=df)"
   ]
  },
  {
   "cell_type": "code",
   "execution_count": null,
   "id": "bf3dcccc-9d71-411f-9d53-fbd062690218",
   "metadata": {},
   "outputs": [],
   "source": [
    "age_survive = df.groupby('Age')['Survived'].mean() * 100\n",
    "age_survival = age_survive.reset_index()\n",
    "plt.figure(figsize=(40,10))\n",
    "sns.barplot(x='Age', y='Survived', data=age_survival)\n",
    "plt.show()"
   ]
  },
  {
   "cell_type": "code",
   "execution_count": null,
   "id": "c7a4ba52-20b6-46cc-9b5a-8bc2b4bdae84",
   "metadata": {},
   "outputs": [],
   "source": [
    "sns.distplot(df['Age'])"
   ]
  },
  {
   "cell_type": "code",
   "execution_count": null,
   "id": "6019f155-a64d-414f-a1ae-6279df01eee2",
   "metadata": {},
   "outputs": [],
   "source": [
    "sns.countplot(x='Sex', hue='Survived', data=df)"
   ]
  },
  {
   "cell_type": "code",
   "execution_count": null,
   "id": "bf4a3761-29e9-4f2a-b4be-649ae571be15",
   "metadata": {
    "scrolled": true
   },
   "outputs": [],
   "source": [
    "df['NewAge'] = pd.cut(df['Age'], \n",
    "                      bins=[0.1, 12, 18, 35, 55, 100],\n",
    "                      labels=[1,2,3,4,5])"
   ]
  },
  {
   "cell_type": "code",
   "execution_count": null,
   "id": "e0589b01-1ae3-4a7b-8ada-01a883e01cca",
   "metadata": {},
   "outputs": [],
   "source": [
    "df['NewAge'].unique()"
   ]
  },
  {
   "cell_type": "code",
   "execution_count": null,
   "id": "ae088c33-59e8-4376-846c-7f41e2cb0f92",
   "metadata": {},
   "outputs": [],
   "source": [
    "df['NewAge'].describe()"
   ]
  },
  {
   "cell_type": "code",
   "execution_count": null,
   "id": "aa6c65a5-525a-4024-aa4b-56a2561c1467",
   "metadata": {},
   "outputs": [],
   "source": [
    "# df['Newfare'] = pd.cut(df['Fare'],\n",
    "#                        bins=[0, 10, 20, 30, 60, float('inf')],\n",
    "#                        labels=[1,2,3,4,5])\n",
    "\n",
    "df['Fare'] = pd.to_numeric(df['Fare'], errors='coerce')\n",
    "df['Fare'].fillna(0, inplace=True)\n",
    "df['Newfare'] = pd.cut(df['Fare'],\n",
    "                       bins=[0, 10, 20, 30, 60, float('inf')],\n",
    "                       labels=[1, 2, 3, 4, 5],\n",
    "                       right=False)"
   ]
  },
  {
   "cell_type": "code",
   "execution_count": null,
   "id": "f8a4b73f-6ad1-48e4-b83b-b76ca6a705c1",
   "metadata": {},
   "outputs": [],
   "source": [
    "df.head()"
   ]
  },
  {
   "cell_type": "code",
   "execution_count": null,
   "id": "1ca26607-0d70-4b7b-a2ac-b3cc9309a161",
   "metadata": {},
   "outputs": [],
   "source": [
    "df['Survived'].value_counts(normalize=True) * 100"
   ]
  },
  {
   "cell_type": "code",
   "execution_count": null,
   "id": "eabedd6e-96e7-47ed-a4cc-a68ce8b215c7",
   "metadata": {},
   "outputs": [],
   "source": [
    "survival_data=df['Survived'].value_counts(normalize=True) * 100\n",
    "survival_data.plot(kind='pie', autopct='%1.2f%%')"
   ]
  },
  {
   "cell_type": "code",
   "execution_count": null,
   "id": "80e2d223-b234-409f-94eb-a24bf8889021",
   "metadata": {},
   "outputs": [],
   "source": [
    "sns.barplot(x='Pclass', y='Survived', data=df)"
   ]
  },
  {
   "cell_type": "code",
   "execution_count": null,
   "id": "4f6ea96c-679e-4b16-9f79-5fde41f5bdbd",
   "metadata": {},
   "outputs": [],
   "source": [
    "sns.barplot(x='Sex', y='Survived', hue='Sex', data=df)"
   ]
  },
  {
   "cell_type": "code",
   "execution_count": null,
   "id": "8ea54a97-f423-4008-90eb-a1b94d4defc7",
   "metadata": {},
   "outputs": [],
   "source": [
    "sns.countplot(x='NewAge', data=df)"
   ]
  },
  {
   "cell_type": "code",
   "execution_count": null,
   "id": "6ce30196-3e47-43e0-89c0-a711e8ea7776",
   "metadata": {},
   "outputs": [],
   "source": [
    "df.drop(columns=['PassengerId', 'Name', 'Ticket', 'Cabin', 'Age', 'Fare'], inplace=True)"
   ]
  },
  {
   "cell_type": "code",
   "execution_count": null,
   "id": "9df5e1b5-dbb7-4f9e-94cc-f45d085d42a8",
   "metadata": {},
   "outputs": [],
   "source": [
    "df.info()"
   ]
  },
  {
   "cell_type": "code",
   "execution_count": null,
   "id": "fd8f3e08-d44f-4578-8f2d-fe3d562a907f",
   "metadata": {},
   "outputs": [],
   "source": [
    "df['Newfare'].unique()"
   ]
  },
  {
   "cell_type": "code",
   "execution_count": null,
   "id": "cf303174-80d9-4960-ba41-3c9e800ff884",
   "metadata": {},
   "outputs": [],
   "source": [
    "df.head()"
   ]
  }
 ],
 "metadata": {
  "kernelspec": {
   "display_name": "Python 3 (ipykernel)",
   "language": "python",
   "name": "python3"
  },
  "language_info": {
   "codemirror_mode": {
    "name": "ipython",
    "version": 3
   },
   "file_extension": ".py",
   "mimetype": "text/x-python",
   "name": "python",
   "nbconvert_exporter": "python",
   "pygments_lexer": "ipython3",
   "version": "3.13.1"
  }
 },
 "nbformat": 4,
 "nbformat_minor": 5
}
